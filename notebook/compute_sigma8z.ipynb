{
 "cells": [
  {
   "cell_type": "markdown",
   "id": "ab71eb7d-b2f0-413e-b907-b6475bc1be92",
   "metadata": {},
   "source": [
    "# Convert $A_s$ to $\\sigma_8(z)$"
   ]
  },
  {
   "cell_type": "markdown",
   "id": "89e34a12-0c96-4965-ab61-9b479837e87d",
   "metadata": {},
   "source": [
    "Notebook to convert $A_s$ to $\\sigma_8(z)$ and add that to the chain."
   ]
  },
  {
   "cell_type": "markdown",
   "id": "ece6408f-8a59-4c6f-8902-38b4234fd852",
   "metadata": {},
   "source": [
    "## Use `GetDist` to load chain(s) and $A_s$ from chain(s)"
   ]
  },
  {
   "cell_type": "code",
   "execution_count": 1,
   "id": "6869a6f1-0cc5-4e77-abd5-dfec82e0945d",
   "metadata": {},
   "outputs": [],
   "source": [
    "import getdist\n",
    "from getdist import loadMCSamples"
   ]
  },
  {
   "cell_type": "code",
   "execution_count": 2,
   "id": "7c94efe9-6c90-429d-98c5-c1b12a2303b5",
   "metadata": {},
   "outputs": [],
   "source": [
    "chain_settings={'ignore_rows':'0.'} # we don't want to remove any burn-in sample here\n",
    "#input_chain_path=r'/nfs/turbo/lsa-nguyenmn/DESI_kp7/DESI_data/mock_blinded_y1/cobaya/base/desi-full-shape-power_bbn-omega_b/'\n",
    "#input_chain_prefix=r'chain_desi-full-shape-power-taylor-velocileptors'\n",
    "# see examples above to set the correct path to chain(s)\n",
    "input_chain_path= # path to the directory that contains your chain\n",
    "input_chain_prefix= # the prefix of your chain (minus the .xx.txt)\n",
    "input_samples=loadMCSamples(input_chain_path+input_chain_prefix,settings=chain_settings)\n",
    "params=input_samples.getParams()\n",
    "h=params.H0/100."
   ]
  },
  {
   "cell_type": "code",
   "execution_count": 3,
   "id": "5958e98a-d8ed-431b-9c7b-83a4b135b442",
   "metadata": {},
   "outputs": [],
   "source": [
    "import yaml\n",
    "\n",
    "# Read the contents of the ASCII file\n",
    "with open(input_chain_path+input_chain_prefix+'.input.yaml', 'r') as file:\n",
    "    lines = file.readlines()\n",
    "\n",
    "# Filter out problematic lines containing Python objects\n",
    "filtered_lines = [line for line in lines if '!!python' not in line]\n",
    "\n",
    "# Reconstruct the filtered content\n",
    "filtered_data = ''.join(filtered_lines)\n",
    "\n",
    "# Parse the modified content as YAML\n",
    "parsed_data = yaml.safe_load(filtered_data)\n",
    "\n",
    "# Access the value of 'N_ur'\n",
    "N_ncdm = parsed_data.get('theory', {}).get('classy', {}).get('extra_args', {}).get('N_ncdm')\n",
    "N_ur = parsed_data.get('theory', {}).get('classy', {}).get('extra_args', {}).get('N_ur')\n",
    "m_ncdm = parsed_data.get('params', {}).get('m_ncdm')\n",
    "tau_reio = parsed_data.get('params', {}).get('tau_reio')"
   ]
  },
  {
   "cell_type": "markdown",
   "id": "70d47f82-fe15-41bb-8ab9-4f3f3667d994",
   "metadata": {},
   "source": [
    "## Define `CLASS` function to compute $\\sigma_8$ from input cosmology"
   ]
  },
  {
   "cell_type": "code",
   "execution_count": 4,
   "id": "6ec7f526-ae52-44ca-a2ee-91d4def0fd33",
   "metadata": {},
   "outputs": [],
   "source": [
    "import classy\n",
    "from classy import Class\n",
    "import numpy as np\n",
    "\n",
    "#settings to configure CLASS computations\n",
    "classy_settings = {\n",
    "    'output': 'mPk', #which quantities we want CLASS to compute\n",
    "    'non linear' : 'none',\n",
    "    \n",
    "    'P_k_max_1/Mpc':50.0 # CLASS uses 1/Mpc units\n",
    "}\n",
    "A_s=np.exp(params.ln_A_s_1e10)/1E10 # Convert ln(1E10As) to As\n",
    "# Below, we only need the values from the first sample in the chain as reference\n",
    "cosmo_params = {\n",
    "    'h': h[0],\n",
    "    'omega_b': params.Omega_b[0]*h[0]**2, # classy uses omegabh2\n",
    "    'omega_cdm': params.Omega_cdm[0]*h[0]**2, # classy uses omegach2\n",
    "    'A_s': A_s[0],\n",
    "    'n_s': params.n_s[0],\n",
    "    'N_ncdm': N_ncdm,\n",
    "    'N_ur': N_ur,\n",
    "    'm_ncdm' : m_ncdm,\n",
    "    #'recombination' : 'HyRec', # test if this changes your sigma8\n",
    "    'tau_reio' : tau_reio,\n",
    "}\n",
    "\n",
    "def compute_sigma8z(settings,params,z=0.):\n",
    "    #initialize Class instance and set parameters\n",
    "    cosmo = Class();\n",
    "    cosmo.set(settings);\n",
    "    cosmo.set(params);\n",
    "    cosmo.compute();\n",
    "    return cosmo.sigma(8./cosmo.h(),z)"
   ]
  },
  {
   "cell_type": "markdown",
   "id": "b3e2fff4-59c3-445e-aa2d-f26ecfbd9152",
   "metadata": {},
   "source": [
    "Check your `CLASS` and `classy` version. Some default settings might change between versions. So it's always a good idea to check..."
   ]
  },
  {
   "cell_type": "code",
   "execution_count": 5,
   "id": "5dae7e89-18f1-41c2-8213-69ade4e91cfb",
   "metadata": {},
   "outputs": [
    {
     "name": "stdout",
     "output_type": "stream",
     "text": [
      "CLASS version: v3.2.0\n"
     ]
    }
   ],
   "source": [
    "print(f\"CLASS version: {classy.__version__}\")"
   ]
  },
  {
   "cell_type": "markdown",
   "id": "a42fdb3c-0977-4f96-b519-f0a91a72ef65",
   "metadata": {},
   "source": [
    "## Compute the reference $\\sigma_8$"
   ]
  },
  {
   "cell_type": "markdown",
   "id": "484f37c9-99f4-4b18-87f0-5b14fb223e7d",
   "metadata": {},
   "source": [
    "The rest of $\\sigma_8$ values can just be linearly scaled."
   ]
  },
  {
   "cell_type": "code",
   "execution_count": 6,
   "id": "cb492ed9-65e7-48f2-970f-583f0658ddf3",
   "metadata": {},
   "outputs": [],
   "source": [
    "sigma8z0_ref=compute_sigma8z(classy_settings,cosmo_params,z=0.)"
   ]
  },
  {
   "cell_type": "code",
   "execution_count": 7,
   "id": "e1c75d5b-43da-4aa2-b3e1-7006c941d832",
   "metadata": {},
   "outputs": [
    {
     "data": {
      "text/plain": [
       "array([0.80362203, 0.80362203, 0.80950524, ..., 0.78497506, 0.78497506,\n",
       "       0.78497506])"
      ]
     },
     "execution_count": 7,
     "metadata": {},
     "output_type": "execute_result"
    }
   ],
   "source": [
    "sigma8z0_chain = sigma8z0_ref * np.sqrt(A_s/A_s[0])\n",
    "sigma8z0_chain"
   ]
  },
  {
   "cell_type": "markdown",
   "id": "f888aeca-a7a3-4d8b-ba43-9e8b8dc4c829",
   "metadata": {},
   "source": [
    "## Add $\\sigma_8$ and $S_8$ to the chain params"
   ]
  },
  {
   "cell_type": "code",
   "execution_count": 8,
   "id": "39cfb45b-a5ee-4901-8f5a-66af8cd37152",
   "metadata": {},
   "outputs": [
    {
     "data": {
      "text/plain": [
       "<getdist.paramnames.ParamInfo at 0x145f17445f40>"
      ]
     },
     "execution_count": 8,
     "metadata": {},
     "output_type": "execute_result"
    }
   ],
   "source": [
    "input_samples.addDerived(sigma8z0_chain,name='sigma_8',label='sigma_8')\n",
    "input_samples.addDerived(sigma8z0_chain*np.sqrt(params.Omega_m/0.3),name='S_8',label='S_8')"
   ]
  },
  {
   "cell_type": "markdown",
   "id": "c1ac345d-7ae7-4c26-8f5d-c96db6bcfd3f",
   "metadata": {},
   "source": [
    "## Save the new chains"
   ]
  },
  {
   "cell_type": "code",
   "execution_count": 10,
   "id": "b6ab16ad-e652-4d0f-81c3-0381c54b14e9",
   "metadata": {},
   "outputs": [],
   "source": [
    "# Output to the same directory, append `_sigma8` to the chain name\n",
    "# Modify as you wish\n",
    "output_chain = input_chain_path+input_chain_prefix+'_sigma8'\n",
    "input_samples.saveAsText(output_chain)"
   ]
  }
 ],
 "metadata": {
  "kernelspec": {
   "display_name": "Python 3 (ipykernel)",
   "language": "python",
   "name": "python3"
  },
  "language_info": {
   "codemirror_mode": {
    "name": "ipython",
    "version": 3
   },
   "file_extension": ".py",
   "mimetype": "text/x-python",
   "name": "python",
   "nbconvert_exporter": "python",
   "pygments_lexer": "ipython3",
   "version": "3.9.13"
  }
 },
 "nbformat": 4,
 "nbformat_minor": 5
}
